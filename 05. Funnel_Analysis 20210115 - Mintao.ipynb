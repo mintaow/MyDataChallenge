{
 "cells": [
  {
   "cell_type": "code",
   "execution_count": 11,
   "metadata": {
    "id": "InJmhpW87XTr"
   },
   "outputs": [],
   "source": [
    "import warnings\n",
    "warnings.simplefilter('ignore')\n",
    "\n",
    "import numpy as np\n",
    "import pandas as pd\n",
    "import seaborn as sns\n",
    "import matplotlib.pyplot as plt\n",
    "\n",
    "from datetime import datetime, date, time, timedelta\n",
    "from dateutil import parser\n",
    "from dateutil import rrule\n",
    "\n",
    "from sklearn.metrics import auc, roc_curve, classification_report\n",
    "\n",
    "\n",
    "%matplotlib inline\n",
    "sns.set(style=\"white\",context=\"talk\")"
   ]
  },
  {
   "cell_type": "code",
   "execution_count": 12,
   "metadata": {
    "colab": {
     "base_uri": "https://localhost:8080/"
    },
    "id": "U7YPffJd7ZgT",
    "outputId": "c10cc9ba-8480-4906-b4be-66a19014a170"
   },
   "outputs": [],
   "source": [
    "# from google.colab import drive\n",
    "# drive.mount(\"/content/drive\")"
   ]
  },
  {
   "cell_type": "markdown",
   "metadata": {
    "id": "U-aE1ob9328_"
   },
   "source": [
    "# Goal\n",
    "1. **A full picture of funnel conversion rate** for both **desktop and mobile**\n",
    "2. Some **insights on what the product team should focus on** in order to improve\n",
    "conversion rate as well as anything you might discover that could help improve"
   ]
  },
  {
   "cell_type": "markdown",
   "metadata": {
    "id": "YNYriViM9cMz"
   },
   "source": [
    "# 1. Load and merge the data"
   ]
  },
  {
   "cell_type": "code",
   "execution_count": 13,
   "metadata": {
    "id": "K8gfyp4V5dL8"
   },
   "outputs": [],
   "source": [
    "# Load the conversion project dataset\n",
    "user_table = pd.read_csv(\"user_table.csv\", sep = \",\")\n",
    "home_page_table = pd.read_csv(\"home_page_table.csv\", sep = \",\")\n",
    "search_page_table = pd.read_csv(\"search_page_table.csv\", sep = \",\")\n",
    "payment_page_table = pd.read_csv(\"payment_page_table.csv\", sep = \",\")\n",
    "payment_confirmation_table = pd.read_csv(\"payment_confirmation_table.csv\", sep = \",\")"
   ]
  },
  {
   "cell_type": "code",
   "execution_count": 14,
   "metadata": {
    "colab": {
     "base_uri": "https://localhost:8080/",
     "height": 195
    },
    "id": "v0oy9nOQ8W_b",
    "outputId": "bee8b880-8987-44bd-eeea-5b103ebd47b8"
   },
   "outputs": [
    {
     "data": {
      "text/html": [
       "<div>\n",
       "<style scoped>\n",
       "    .dataframe tbody tr th:only-of-type {\n",
       "        vertical-align: middle;\n",
       "    }\n",
       "\n",
       "    .dataframe tbody tr th {\n",
       "        vertical-align: top;\n",
       "    }\n",
       "\n",
       "    .dataframe thead th {\n",
       "        text-align: right;\n",
       "    }\n",
       "</style>\n",
       "<table border=\"1\" class=\"dataframe\">\n",
       "  <thead>\n",
       "    <tr style=\"text-align: right;\">\n",
       "      <th></th>\n",
       "      <th>user_id</th>\n",
       "      <th>date</th>\n",
       "      <th>device</th>\n",
       "      <th>sex</th>\n",
       "      <th>is_home_pg</th>\n",
       "      <th>is_search_pg</th>\n",
       "      <th>is_pmt_pg</th>\n",
       "      <th>is_pmt_cf_pg</th>\n",
       "    </tr>\n",
       "  </thead>\n",
       "  <tbody>\n",
       "    <tr>\n",
       "      <td>0</td>\n",
       "      <td>450007</td>\n",
       "      <td>2015-02-28</td>\n",
       "      <td>Desktop</td>\n",
       "      <td>Female</td>\n",
       "      <td>1</td>\n",
       "      <td>0</td>\n",
       "      <td>0</td>\n",
       "      <td>0</td>\n",
       "    </tr>\n",
       "    <tr>\n",
       "      <td>1</td>\n",
       "      <td>756838</td>\n",
       "      <td>2015-01-13</td>\n",
       "      <td>Desktop</td>\n",
       "      <td>Male</td>\n",
       "      <td>1</td>\n",
       "      <td>0</td>\n",
       "      <td>0</td>\n",
       "      <td>0</td>\n",
       "    </tr>\n",
       "    <tr>\n",
       "      <td>2</td>\n",
       "      <td>568983</td>\n",
       "      <td>2015-04-09</td>\n",
       "      <td>Desktop</td>\n",
       "      <td>Male</td>\n",
       "      <td>1</td>\n",
       "      <td>1</td>\n",
       "      <td>0</td>\n",
       "      <td>0</td>\n",
       "    </tr>\n",
       "    <tr>\n",
       "      <td>3</td>\n",
       "      <td>190794</td>\n",
       "      <td>2015-02-18</td>\n",
       "      <td>Desktop</td>\n",
       "      <td>Female</td>\n",
       "      <td>1</td>\n",
       "      <td>1</td>\n",
       "      <td>0</td>\n",
       "      <td>0</td>\n",
       "    </tr>\n",
       "    <tr>\n",
       "      <td>4</td>\n",
       "      <td>537909</td>\n",
       "      <td>2015-01-15</td>\n",
       "      <td>Desktop</td>\n",
       "      <td>Male</td>\n",
       "      <td>1</td>\n",
       "      <td>0</td>\n",
       "      <td>0</td>\n",
       "      <td>0</td>\n",
       "    </tr>\n",
       "    <tr>\n",
       "      <td>...</td>\n",
       "      <td>...</td>\n",
       "      <td>...</td>\n",
       "      <td>...</td>\n",
       "      <td>...</td>\n",
       "      <td>...</td>\n",
       "      <td>...</td>\n",
       "      <td>...</td>\n",
       "      <td>...</td>\n",
       "    </tr>\n",
       "    <tr>\n",
       "      <td>90395</td>\n",
       "      <td>307667</td>\n",
       "      <td>2015-03-30</td>\n",
       "      <td>Desktop</td>\n",
       "      <td>Female</td>\n",
       "      <td>1</td>\n",
       "      <td>0</td>\n",
       "      <td>0</td>\n",
       "      <td>0</td>\n",
       "    </tr>\n",
       "    <tr>\n",
       "      <td>90396</td>\n",
       "      <td>642989</td>\n",
       "      <td>2015-02-08</td>\n",
       "      <td>Desktop</td>\n",
       "      <td>Female</td>\n",
       "      <td>1</td>\n",
       "      <td>1</td>\n",
       "      <td>0</td>\n",
       "      <td>0</td>\n",
       "    </tr>\n",
       "    <tr>\n",
       "      <td>90397</td>\n",
       "      <td>659645</td>\n",
       "      <td>2015-04-13</td>\n",
       "      <td>Desktop</td>\n",
       "      <td>Male</td>\n",
       "      <td>1</td>\n",
       "      <td>1</td>\n",
       "      <td>0</td>\n",
       "      <td>0</td>\n",
       "    </tr>\n",
       "    <tr>\n",
       "      <td>90398</td>\n",
       "      <td>359779</td>\n",
       "      <td>2015-03-23</td>\n",
       "      <td>Desktop</td>\n",
       "      <td>Male</td>\n",
       "      <td>1</td>\n",
       "      <td>0</td>\n",
       "      <td>0</td>\n",
       "      <td>0</td>\n",
       "    </tr>\n",
       "    <tr>\n",
       "      <td>90399</td>\n",
       "      <td>438929</td>\n",
       "      <td>2015-03-26</td>\n",
       "      <td>Mobile</td>\n",
       "      <td>Female</td>\n",
       "      <td>1</td>\n",
       "      <td>0</td>\n",
       "      <td>0</td>\n",
       "      <td>0</td>\n",
       "    </tr>\n",
       "  </tbody>\n",
       "</table>\n",
       "<p>90400 rows × 8 columns</p>\n",
       "</div>"
      ],
      "text/plain": [
       "       user_id        date   device     sex  is_home_pg  is_search_pg  \\\n",
       "0       450007  2015-02-28  Desktop  Female           1             0   \n",
       "1       756838  2015-01-13  Desktop    Male           1             0   \n",
       "2       568983  2015-04-09  Desktop    Male           1             1   \n",
       "3       190794  2015-02-18  Desktop  Female           1             1   \n",
       "4       537909  2015-01-15  Desktop    Male           1             0   \n",
       "...        ...         ...      ...     ...         ...           ...   \n",
       "90395   307667  2015-03-30  Desktop  Female           1             0   \n",
       "90396   642989  2015-02-08  Desktop  Female           1             1   \n",
       "90397   659645  2015-04-13  Desktop    Male           1             1   \n",
       "90398   359779  2015-03-23  Desktop    Male           1             0   \n",
       "90399   438929  2015-03-26   Mobile  Female           1             0   \n",
       "\n",
       "       is_pmt_pg  is_pmt_cf_pg  \n",
       "0              0             0  \n",
       "1              0             0  \n",
       "2              0             0  \n",
       "3              0             0  \n",
       "4              0             0  \n",
       "...          ...           ...  \n",
       "90395          0             0  \n",
       "90396          0             0  \n",
       "90397          0             0  \n",
       "90398          0             0  \n",
       "90399          0             0  \n",
       "\n",
       "[90400 rows x 8 columns]"
      ]
     },
     "execution_count": 14,
     "metadata": {},
     "output_type": "execute_result"
    }
   ],
   "source": [
    "# Merge the data\n",
    "data = pd.merge(left = user_table, right = home_page_table, how = \"left\", on = \"user_id\")\n",
    "data = pd.merge(left = data, right = search_page_table, how = \"left\", on = \"user_id\")\n",
    "data = pd.merge(left = data, right = payment_page_table, how = \"left\", on = \"user_id\")\n",
    "data = pd.merge(left = data, right = payment_confirmation_table, how = \"left\", on = \"user_id\")\n",
    "\n",
    "data.columns = [\"user_id\",\"date\",\t\"device\",\"sex\",\"is_home_pg\",\"is_search_pg\",\"is_pmt_pg\",\"is_pmt_cf_pg\"]\n",
    "\n",
    "# change the textual description into labels\n",
    "for col in [\"is_home_pg\",\"is_search_pg\",\"is_pmt_pg\",\"is_pmt_cf_pg\"]:\n",
    "    data.loc[(data[col].notnull()),col] = 1\n",
    "\n",
    "# change the NA(people who never been to that funnel stage) into 0\n",
    "data = data.fillna(0)\n",
    "data"
   ]
  },
  {
   "cell_type": "code",
   "execution_count": 15,
   "metadata": {
    "colab": {
     "base_uri": "https://localhost:8080/",
     "height": 318
    },
    "id": "waJLzVpY6pXU",
    "outputId": "f6c1042c-365d-465c-d393-60226707c1da"
   },
   "outputs": [
    {
     "name": "stdout",
     "output_type": "stream",
     "text": [
      "The new customer journey consists of 90400 rows and 8 columns, with 0 missing values\n",
      "\n"
     ]
    },
    {
     "data": {
      "text/html": [
       "<div>\n",
       "<style scoped>\n",
       "    .dataframe tbody tr th:only-of-type {\n",
       "        vertical-align: middle;\n",
       "    }\n",
       "\n",
       "    .dataframe tbody tr th {\n",
       "        vertical-align: top;\n",
       "    }\n",
       "\n",
       "    .dataframe thead th {\n",
       "        text-align: right;\n",
       "    }\n",
       "</style>\n",
       "<table border=\"1\" class=\"dataframe\">\n",
       "  <thead>\n",
       "    <tr style=\"text-align: right;\">\n",
       "      <th></th>\n",
       "      <th>data_types</th>\n",
       "      <th>value_counts</th>\n",
       "      <th>null_counts</th>\n",
       "    </tr>\n",
       "  </thead>\n",
       "  <tbody>\n",
       "    <tr>\n",
       "      <td>user_id</td>\n",
       "      <td>int64</td>\n",
       "      <td>90400</td>\n",
       "      <td>0</td>\n",
       "    </tr>\n",
       "    <tr>\n",
       "      <td>date</td>\n",
       "      <td>object</td>\n",
       "      <td>120</td>\n",
       "      <td>0</td>\n",
       "    </tr>\n",
       "    <tr>\n",
       "      <td>device</td>\n",
       "      <td>object</td>\n",
       "      <td>2</td>\n",
       "      <td>0</td>\n",
       "    </tr>\n",
       "    <tr>\n",
       "      <td>sex</td>\n",
       "      <td>object</td>\n",
       "      <td>2</td>\n",
       "      <td>0</td>\n",
       "    </tr>\n",
       "    <tr>\n",
       "      <td>is_home_pg</td>\n",
       "      <td>int64</td>\n",
       "      <td>1</td>\n",
       "      <td>0</td>\n",
       "    </tr>\n",
       "    <tr>\n",
       "      <td>is_search_pg</td>\n",
       "      <td>int64</td>\n",
       "      <td>2</td>\n",
       "      <td>0</td>\n",
       "    </tr>\n",
       "    <tr>\n",
       "      <td>is_pmt_pg</td>\n",
       "      <td>int64</td>\n",
       "      <td>2</td>\n",
       "      <td>0</td>\n",
       "    </tr>\n",
       "    <tr>\n",
       "      <td>is_pmt_cf_pg</td>\n",
       "      <td>int64</td>\n",
       "      <td>2</td>\n",
       "      <td>0</td>\n",
       "    </tr>\n",
       "  </tbody>\n",
       "</table>\n",
       "</div>"
      ],
      "text/plain": [
       "             data_types  value_counts  null_counts\n",
       "user_id           int64         90400            0\n",
       "date             object           120            0\n",
       "device           object             2            0\n",
       "sex              object             2            0\n",
       "is_home_pg        int64             1            0\n",
       "is_search_pg      int64             2            0\n",
       "is_pmt_pg         int64             2            0\n",
       "is_pmt_cf_pg      int64             2            0"
      ]
     },
     "execution_count": 15,
     "metadata": {},
     "output_type": "execute_result"
    }
   ],
   "source": [
    "# Exploring the data types, number of unique values and missing values\n",
    "# All the tables refer to only the user first experience on the site. \n",
    "print(f\"The new customer journey consists of {data.shape[0]} rows and {data.shape[1]} columns, with 0 missing values\\n\")\n",
    "pd.DataFrame({\"data_types\":data.dtypes, \n",
    "          \"value_counts\": data.nunique(),\n",
    "          \"null_counts\": data.isnull().sum()}).set_index(data.dtypes.index)"
   ]
  },
  {
   "cell_type": "markdown",
   "metadata": {
    "id": "FOc5NZwp6qL-"
   },
   "source": [
    "# 2. Conversion Rate"
   ]
  },
  {
   "cell_type": "markdown",
   "metadata": {},
   "source": [
    "## 2.1 Aggregated conversion Rate"
   ]
  },
  {
   "cell_type": "code",
   "execution_count": 16,
   "metadata": {},
   "outputs": [
    {
     "data": {
      "text/html": [
       "<div>\n",
       "<style scoped>\n",
       "    .dataframe tbody tr th:only-of-type {\n",
       "        vertical-align: middle;\n",
       "    }\n",
       "\n",
       "    .dataframe tbody tr th {\n",
       "        vertical-align: top;\n",
       "    }\n",
       "\n",
       "    .dataframe thead th {\n",
       "        text-align: right;\n",
       "    }\n",
       "</style>\n",
       "<table border=\"1\" class=\"dataframe\">\n",
       "  <thead>\n",
       "    <tr style=\"text-align: right;\">\n",
       "      <th></th>\n",
       "      <th>Customer journey</th>\n",
       "      <th>Number of customers</th>\n",
       "      <th>Percentage of customers</th>\n",
       "    </tr>\n",
       "  </thead>\n",
       "  <tbody>\n",
       "    <tr>\n",
       "      <td>0</td>\n",
       "      <td>is_home_pg</td>\n",
       "      <td>90400</td>\n",
       "      <td>1.000000</td>\n",
       "    </tr>\n",
       "    <tr>\n",
       "      <td>1</td>\n",
       "      <td>is_search_pg</td>\n",
       "      <td>45200</td>\n",
       "      <td>0.500000</td>\n",
       "    </tr>\n",
       "    <tr>\n",
       "      <td>2</td>\n",
       "      <td>is_pmt_pg</td>\n",
       "      <td>6030</td>\n",
       "      <td>0.066704</td>\n",
       "    </tr>\n",
       "    <tr>\n",
       "      <td>3</td>\n",
       "      <td>is_pmt_cf_pg</td>\n",
       "      <td>452</td>\n",
       "      <td>0.005000</td>\n",
       "    </tr>\n",
       "  </tbody>\n",
       "</table>\n",
       "</div>"
      ],
      "text/plain": [
       "  Customer journey  Number of customers  Percentage of customers\n",
       "0       is_home_pg                90400                 1.000000\n",
       "1     is_search_pg                45200                 0.500000\n",
       "2        is_pmt_pg                 6030                 0.066704\n",
       "3     is_pmt_cf_pg                  452                 0.005000"
      ]
     },
     "execution_count": 16,
     "metadata": {},
     "output_type": "execute_result"
    }
   ],
   "source": [
    "pd.DataFrame({\n",
    "    \"Customer journey\": data[[\"is_home_pg\",\"is_search_pg\",\"is_pmt_pg\",\"is_pmt_cf_pg\"]].sum().index,\n",
    "    \"Number of customers\":data[[\"is_home_pg\",\"is_search_pg\",\"is_pmt_pg\",\"is_pmt_cf_pg\"]].sum().values,\n",
    "    \"Percentage of customers\": data[[\"is_home_pg\",\"is_search_pg\",\"is_pmt_pg\",\"is_pmt_cf_pg\"]].sum().values/90400})"
   ]
  },
  {
   "cell_type": "markdown",
   "metadata": {},
   "source": [
    "How many people have reached each phase of the funnel?"
   ]
  },
  {
   "cell_type": "code",
   "execution_count": 17,
   "metadata": {
    "scrolled": false
   },
   "outputs": [
    {
     "data": {
      "text/html": [
       "<div>\n",
       "<style scoped>\n",
       "    .dataframe tbody tr th:only-of-type {\n",
       "        vertical-align: middle;\n",
       "    }\n",
       "\n",
       "    .dataframe tbody tr th {\n",
       "        vertical-align: top;\n",
       "    }\n",
       "\n",
       "    .dataframe thead th {\n",
       "        text-align: right;\n",
       "    }\n",
       "</style>\n",
       "<table border=\"1\" class=\"dataframe\">\n",
       "  <thead>\n",
       "    <tr style=\"text-align: right;\">\n",
       "      <th></th>\n",
       "      <th>is_home_pg</th>\n",
       "      <th>is_search_pg</th>\n",
       "      <th>is_pmt_pg</th>\n",
       "      <th>is_pmt_cf_pg</th>\n",
       "    </tr>\n",
       "    <tr>\n",
       "      <th>device</th>\n",
       "      <th></th>\n",
       "      <th></th>\n",
       "      <th></th>\n",
       "      <th></th>\n",
       "    </tr>\n",
       "  </thead>\n",
       "  <tbody>\n",
       "    <tr>\n",
       "      <td>Desktop</td>\n",
       "      <td>60200</td>\n",
       "      <td>30100</td>\n",
       "      <td>3010</td>\n",
       "      <td>150</td>\n",
       "    </tr>\n",
       "    <tr>\n",
       "      <td>Mobile</td>\n",
       "      <td>30200</td>\n",
       "      <td>15100</td>\n",
       "      <td>3020</td>\n",
       "      <td>302</td>\n",
       "    </tr>\n",
       "  </tbody>\n",
       "</table>\n",
       "</div>"
      ],
      "text/plain": [
       "         is_home_pg  is_search_pg  is_pmt_pg  is_pmt_cf_pg\n",
       "device                                                    \n",
       "Desktop       60200         30100       3010           150\n",
       "Mobile        30200         15100       3020           302"
      ]
     },
     "execution_count": 17,
     "metadata": {},
     "output_type": "execute_result"
    }
   ],
   "source": [
    "data.groupby(\"device\")[\"is_home_pg\",\"is_search_pg\",\"is_pmt_pg\",\"is_pmt_cf_pg\"].sum()"
   ]
  },
  {
   "cell_type": "markdown",
   "metadata": {},
   "source": [
    "## 2-2. Overall Conversion Rate\n",
    "By device"
   ]
  },
  {
   "cell_type": "code",
   "execution_count": 18,
   "metadata": {
    "id": "pwFKPIOq6qJ1"
   },
   "outputs": [
    {
     "data": {
      "text/html": [
       "<div>\n",
       "<style scoped>\n",
       "    .dataframe tbody tr th:only-of-type {\n",
       "        vertical-align: middle;\n",
       "    }\n",
       "\n",
       "    .dataframe tbody tr th {\n",
       "        vertical-align: top;\n",
       "    }\n",
       "\n",
       "    .dataframe thead th {\n",
       "        text-align: right;\n",
       "    }\n",
       "</style>\n",
       "<table border=\"1\" class=\"dataframe\">\n",
       "  <thead>\n",
       "    <tr style=\"text-align: right;\">\n",
       "      <th></th>\n",
       "      <th>is_home_pg</th>\n",
       "      <th>is_search_pg</th>\n",
       "      <th>is_pmt_pg</th>\n",
       "      <th>is_pmt_cf_pg</th>\n",
       "    </tr>\n",
       "    <tr>\n",
       "      <th>device</th>\n",
       "      <th></th>\n",
       "      <th></th>\n",
       "      <th></th>\n",
       "      <th></th>\n",
       "    </tr>\n",
       "  </thead>\n",
       "  <tbody>\n",
       "    <tr>\n",
       "      <td>Desktop</td>\n",
       "      <td>1.0</td>\n",
       "      <td>0.5</td>\n",
       "      <td>0.05</td>\n",
       "      <td>0.002492</td>\n",
       "    </tr>\n",
       "    <tr>\n",
       "      <td>Mobile</td>\n",
       "      <td>1.0</td>\n",
       "      <td>0.5</td>\n",
       "      <td>0.10</td>\n",
       "      <td>0.010000</td>\n",
       "    </tr>\n",
       "  </tbody>\n",
       "</table>\n",
       "</div>"
      ],
      "text/plain": [
       "         is_home_pg  is_search_pg  is_pmt_pg  is_pmt_cf_pg\n",
       "device                                                    \n",
       "Desktop         1.0           0.5       0.05      0.002492\n",
       "Mobile          1.0           0.5       0.10      0.010000"
      ]
     },
     "execution_count": 18,
     "metadata": {},
     "output_type": "execute_result"
    }
   ],
   "source": [
    "desktop_conv = data.groupby(\"device\")[\"is_home_pg\",\"is_search_pg\",\"is_pmt_pg\",\"is_pmt_cf_pg\"].mean().loc[\"Desktop\",:]\n",
    "mobile_conv = data.groupby(\"device\")[\"is_home_pg\",\"is_search_pg\",\"is_pmt_pg\",\"is_pmt_cf_pg\"].mean().loc[\"Mobile\",:]\n",
    "data.groupby(\"device\")[\"is_home_pg\",\"is_search_pg\",\"is_pmt_pg\",\"is_pmt_cf_pg\"].mean()"
   ]
  },
  {
   "cell_type": "code",
   "execution_count": 20,
   "metadata": {
    "colab": {
     "base_uri": "https://localhost:8080/",
     "height": 417
    },
    "id": "XczTUA6H6qHh",
    "outputId": "40bdc38d-3d8a-4c5b-d626-f54ad1ae0009"
   },
   "outputs": [],
   "source": [
    "# pyecharts: cannot display the plot, so I am not using pyecharts-funnel() as illustration here\n",
    "def funnel_plot(df_conv):\n",
    "    attrs = df_conv.index.tolist()\n",
    "    attr_value = np.array(df_conv.values*100).tolist()\n",
    "\n",
    "    funnel2 = Funnel(\"Overall Funnel Diagram\",width=800, height=400, title_pos='center')\n",
    "    funnel2.add(name=\"Conversion Rate per phase during customer journey\",        # 指定图例名称\n",
    "                attr=attrs,                 # 指定属性名称\n",
    "                value = attr_value,         # 指定属性所对应的值\n",
    "                is_label_show=True,         # 指定标签是否显示\n",
    "                label_formatter='{b}{c}%',  # 指定标签显示的格式\n",
    "                label_pos=\"outside\",        # 指定标签的位置\n",
    "                is_legend_show=False)       # 指定图例不显示图例\n",
    "\n",
    "    funnel2.render(\"funnel.html\")\n",
    "    funnel2"
   ]
  },
  {
   "cell_type": "markdown",
   "metadata": {},
   "source": [
    "## 2-3. Conversion rate at individual phase\n",
    "By device"
   ]
  },
  {
   "cell_type": "code",
   "execution_count": 21,
   "metadata": {
    "id": "bIjqukHj6qDF"
   },
   "outputs": [
    {
     "data": {
      "text/html": [
       "<div>\n",
       "<style scoped>\n",
       "    .dataframe tbody tr th:only-of-type {\n",
       "        vertical-align: middle;\n",
       "    }\n",
       "\n",
       "    .dataframe tbody tr th {\n",
       "        vertical-align: top;\n",
       "    }\n",
       "\n",
       "    .dataframe thead th {\n",
       "        text-align: right;\n",
       "    }\n",
       "</style>\n",
       "<table border=\"1\" class=\"dataframe\">\n",
       "  <thead>\n",
       "    <tr style=\"text-align: right;\">\n",
       "      <th></th>\n",
       "      <th>to_home</th>\n",
       "      <th>home_to_search</th>\n",
       "      <th>search_to_pmt</th>\n",
       "      <th>pmt_to_cf</th>\n",
       "    </tr>\n",
       "    <tr>\n",
       "      <th>device</th>\n",
       "      <th></th>\n",
       "      <th></th>\n",
       "      <th></th>\n",
       "      <th></th>\n",
       "    </tr>\n",
       "  </thead>\n",
       "  <tbody>\n",
       "    <tr>\n",
       "      <td>Desktop</td>\n",
       "      <td>1</td>\n",
       "      <td>0.5</td>\n",
       "      <td>0.1</td>\n",
       "      <td>0.049834</td>\n",
       "    </tr>\n",
       "    <tr>\n",
       "      <td>Mobile</td>\n",
       "      <td>1</td>\n",
       "      <td>0.5</td>\n",
       "      <td>0.2</td>\n",
       "      <td>0.100000</td>\n",
       "    </tr>\n",
       "  </tbody>\n",
       "</table>\n",
       "</div>"
      ],
      "text/plain": [
       "         to_home  home_to_search  search_to_pmt  pmt_to_cf\n",
       "device                                                    \n",
       "Desktop        1             0.5            0.1   0.049834\n",
       "Mobile         1             0.5            0.2   0.100000"
      ]
     },
     "execution_count": 21,
     "metadata": {},
     "output_type": "execute_result"
    }
   ],
   "source": [
    "ind_conv = data.groupby(\"device\")[\"is_home_pg\",\"is_search_pg\",\"is_pmt_pg\",\"is_pmt_cf_pg\"].sum()\n",
    "ind_conv.columns = [\"to_home\",\"home_to_search\",\"search_to_pmt\",\"pmt_to_cf\"]\n",
    "\n",
    "for i in [3,2,1]:\n",
    "    ind_conv[ind_conv.columns[i]] = ind_conv[ind_conv.columns[i]]/ind_conv[ind_conv.columns[i-1]]\n",
    "ind_conv[\"to_home\"] = 1\n",
    "ind_conv"
   ]
  },
  {
   "cell_type": "markdown",
   "metadata": {},
   "source": [
    "## 2-4. T-test on conversion rate by device"
   ]
  },
  {
   "cell_type": "code",
   "execution_count": 22,
   "metadata": {},
   "outputs": [],
   "source": [
    "from scipy import stats\n",
    "desktop_conv_day = data[data.device == \"Desktop\"].groupby(\"date\")[\"is_search_pg\",\"is_pmt_pg\",\"is_pmt_cf_pg\"].mean()\n",
    "mobile_conv_day = data[data.device == \"Mobile\"].groupby(\"date\")[\"is_search_pg\",\"is_pmt_pg\",\"is_pmt_cf_pg\"].mean()"
   ]
  },
  {
   "cell_type": "code",
   "execution_count": 23,
   "metadata": {},
   "outputs": [],
   "source": [
    "def levene_t_test(data1, data2):\n",
    "    #print(\"Data1: KS-Test\",stats.kstest(data1, 'norm'))\n",
    "    #print(\"Data1: KS-Test\",stats.kstest(data2, 'norm'),\"\\n\")\n",
    "    t,p = stats.levene(data1,data2)\n",
    "    print(f\"Levene variance test: t={round(t,3)}, p={round(p,3)}\")\n",
    "    if p<0.05:\n",
    "        print(\"----variance of the two group doesn't equal, reject the null hypothesis----\")\n",
    "        t,p = stats.ttest_ind(data1,data2, equal_var = False)\n",
    "    else:\n",
    "        t,p = stats.ttest_ind(data1,data2)\n",
    "    print(f\"Independent t-test: t={round(t,3)}, p={round(p,3)}\")"
   ]
  },
  {
   "cell_type": "code",
   "execution_count": 31,
   "metadata": {},
   "outputs": [
    {
     "name": "stdout",
     "output_type": "stream",
     "text": [
      "Levene variance test: t=144.006, p=0.0\n",
      "----variance of the two group doesn't equal, reject the null hypothesis----\n",
      "Independent t-test: t=0.172, p=0.864\n"
     ]
    }
   ],
   "source": [
    "levene_t_test(desktop_conv_day[\"is_search_pg\"], mobile_conv_day[\"is_search_pg\"])"
   ]
  },
  {
   "cell_type": "code",
   "execution_count": 32,
   "metadata": {},
   "outputs": [
    {
     "name": "stdout",
     "output_type": "stream",
     "text": [
      "Levene variance test: t=82.07, p=0.0\n",
      "----variance of the two group doesn't equal, reject the null hypothesis----\n",
      "Independent t-test: t=-7.828, p=0.0\n"
     ]
    }
   ],
   "source": [
    "levene_t_test(desktop_conv_day[\"is_pmt_pg\"], mobile_conv_day[\"is_pmt_pg\"])"
   ]
  },
  {
   "cell_type": "code",
   "execution_count": 33,
   "metadata": {},
   "outputs": [
    {
     "name": "stdout",
     "output_type": "stream",
     "text": [
      "Levene variance test: t=115.736, p=0.0\n",
      "----variance of the two group doesn't equal, reject the null hypothesis----\n",
      "Independent t-test: t=-9.203, p=0.0\n"
     ]
    }
   ],
   "source": [
    "levene_t_test(desktop_conv_day[\"is_pmt_cf_pg\"], mobile_conv_day[\"is_pmt_cf_pg\"])"
   ]
  },
  {
   "cell_type": "markdown",
   "metadata": {},
   "source": [
    "# 3. Analyze key determinant factor\n"
   ]
  },
  {
   "cell_type": "markdown",
   "metadata": {},
   "source": [
    "### 3-1. Sex\n",
    "Pretty much the same "
   ]
  },
  {
   "cell_type": "code",
   "execution_count": 35,
   "metadata": {
    "id": "VibSPs2s6p9n",
    "scrolled": false
   },
   "outputs": [
    {
     "data": {
      "text/html": [
       "<div>\n",
       "<style scoped>\n",
       "    .dataframe tbody tr th:only-of-type {\n",
       "        vertical-align: middle;\n",
       "    }\n",
       "\n",
       "    .dataframe tbody tr th {\n",
       "        vertical-align: top;\n",
       "    }\n",
       "\n",
       "    .dataframe thead th {\n",
       "        text-align: right;\n",
       "    }\n",
       "</style>\n",
       "<table border=\"1\" class=\"dataframe\">\n",
       "  <thead>\n",
       "    <tr style=\"text-align: right;\">\n",
       "      <th></th>\n",
       "      <th>Customer journey</th>\n",
       "      <th>Number of female customers</th>\n",
       "      <th>Number of male customers</th>\n",
       "      <th>Percentage of female customers</th>\n",
       "      <th>Percentage of male customers</th>\n",
       "    </tr>\n",
       "  </thead>\n",
       "  <tbody>\n",
       "    <tr>\n",
       "      <td>0</td>\n",
       "      <td>is_home_pg</td>\n",
       "      <td>45075</td>\n",
       "      <td>45325</td>\n",
       "      <td>0.498617</td>\n",
       "      <td>0.501383</td>\n",
       "    </tr>\n",
       "    <tr>\n",
       "      <td>1</td>\n",
       "      <td>is_search_pg</td>\n",
       "      <td>22676</td>\n",
       "      <td>22524</td>\n",
       "      <td>0.250841</td>\n",
       "      <td>0.249159</td>\n",
       "    </tr>\n",
       "    <tr>\n",
       "      <td>2</td>\n",
       "      <td>is_pmt_pg</td>\n",
       "      <td>3100</td>\n",
       "      <td>2930</td>\n",
       "      <td>0.034292</td>\n",
       "      <td>0.032412</td>\n",
       "    </tr>\n",
       "    <tr>\n",
       "      <td>3</td>\n",
       "      <td>is_pmt_cf_pg</td>\n",
       "      <td>241</td>\n",
       "      <td>211</td>\n",
       "      <td>0.002666</td>\n",
       "      <td>0.002334</td>\n",
       "    </tr>\n",
       "  </tbody>\n",
       "</table>\n",
       "</div>"
      ],
      "text/plain": [
       "  Customer journey  Number of female customers  Number of male customers  \\\n",
       "0       is_home_pg                       45075                     45325   \n",
       "1     is_search_pg                       22676                     22524   \n",
       "2        is_pmt_pg                        3100                      2930   \n",
       "3     is_pmt_cf_pg                         241                       211   \n",
       "\n",
       "   Percentage of female customers  Percentage of male customers  \n",
       "0                        0.498617                      0.501383  \n",
       "1                        0.250841                      0.249159  \n",
       "2                        0.034292                      0.032412  \n",
       "3                        0.002666                      0.002334  "
      ]
     },
     "execution_count": 35,
     "metadata": {},
     "output_type": "execute_result"
    }
   ],
   "source": [
    "pd.DataFrame({\n",
    "    \"Customer journey\": data.groupby(\"sex\")[\"is_home_pg\",\"is_search_pg\",\"is_pmt_pg\",\"is_pmt_cf_pg\"].sum().columns,\n",
    "    \"Number of female customers\":data.groupby(\"sex\")[\"is_home_pg\",\"is_search_pg\",\"is_pmt_pg\",\"is_pmt_cf_pg\"].sum().loc[\"Female\"].values,\n",
    "    \"Number of male customers\":data.groupby(\"sex\")[\"is_home_pg\",\"is_search_pg\",\"is_pmt_pg\",\"is_pmt_cf_pg\"].sum().loc[\"Male\"].values,\n",
    "    \"Percentage of female customers\": data.groupby(\"sex\")[\"is_home_pg\",\"is_search_pg\",\"is_pmt_pg\",\"is_pmt_cf_pg\"].sum().loc[\"Female\"].values/90400,\n",
    "    \"Percentage of male customers\": data.groupby(\"sex\")[\"is_home_pg\",\"is_search_pg\",\"is_pmt_pg\",\"is_pmt_cf_pg\"].sum().loc[\"Male\"].values/90400})"
   ]
  },
  {
   "cell_type": "code",
   "execution_count": 36,
   "metadata": {},
   "outputs": [],
   "source": [
    "male_conv_day = data[data.sex == \"Male\"].groupby(\"date\")[\"is_search_pg\",\"is_pmt_pg\",\"is_pmt_cf_pg\"].mean()\n",
    "female_conv_day = data[data.sex == \"Female\"].groupby(\"date\")[\"is_search_pg\",\"is_pmt_pg\",\"is_pmt_cf_pg\"].mean()"
   ]
  },
  {
   "cell_type": "code",
   "execution_count": 37,
   "metadata": {},
   "outputs": [
    {
     "name": "stdout",
     "output_type": "stream",
     "text": [
      "Levene variance test: t=0.253, p=0.616\n",
      "Independent t-test: t=-0.425, p=0.671\n"
     ]
    }
   ],
   "source": [
    "levene_t_test(male_conv_day[\"is_search_pg\"], female_conv_day[\"is_search_pg\"])"
   ]
  },
  {
   "cell_type": "code",
   "execution_count": 38,
   "metadata": {},
   "outputs": [
    {
     "name": "stdout",
     "output_type": "stream",
     "text": [
      "Levene variance test: t=1.058, p=0.305\n",
      "Independent t-test: t=-0.715, p=0.476\n"
     ]
    }
   ],
   "source": [
    "levene_t_test(male_conv_day[\"is_pmt_pg\"], female_conv_day[\"is_pmt_pg\"])"
   ]
  },
  {
   "cell_type": "code",
   "execution_count": 39,
   "metadata": {},
   "outputs": [
    {
     "name": "stdout",
     "output_type": "stream",
     "text": [
      "Levene variance test: t=2.558, p=0.111\n",
      "Independent t-test: t=-1.152, p=0.25\n"
     ]
    }
   ],
   "source": [
    "levene_t_test(male_conv_day[\"is_pmt_cf_pg\"], female_conv_day[\"is_pmt_cf_pg\"])"
   ]
  },
  {
   "cell_type": "markdown",
   "metadata": {},
   "source": [
    "## Date"
   ]
  },
  {
   "cell_type": "code",
   "execution_count": 40,
   "metadata": {},
   "outputs": [],
   "source": [
    "data.date = list(map(lambda day: datetime.strptime(day, '%Y-%m-%d').date(),data.date))"
   ]
  },
  {
   "cell_type": "code",
   "execution_count": 42,
   "metadata": {},
   "outputs": [],
   "source": [
    "#data = backup"
   ]
  },
  {
   "cell_type": "markdown",
   "metadata": {},
   "source": [
    "Include weekday, week (assuming 4 weeks in a month), month(Jan ~ Dec)"
   ]
  },
  {
   "cell_type": "code",
   "execution_count": 43,
   "metadata": {
    "scrolled": true
   },
   "outputs": [
    {
     "data": {
      "text/html": [
       "<div>\n",
       "<style scoped>\n",
       "    .dataframe tbody tr th:only-of-type {\n",
       "        vertical-align: middle;\n",
       "    }\n",
       "\n",
       "    .dataframe tbody tr th {\n",
       "        vertical-align: top;\n",
       "    }\n",
       "\n",
       "    .dataframe thead th {\n",
       "        text-align: right;\n",
       "    }\n",
       "</style>\n",
       "<table border=\"1\" class=\"dataframe\">\n",
       "  <thead>\n",
       "    <tr style=\"text-align: right;\">\n",
       "      <th></th>\n",
       "      <th>user_id</th>\n",
       "      <th>date</th>\n",
       "      <th>device</th>\n",
       "      <th>sex</th>\n",
       "      <th>is_home_pg</th>\n",
       "      <th>is_search_pg</th>\n",
       "      <th>is_pmt_pg</th>\n",
       "      <th>is_pmt_cf_pg</th>\n",
       "      <th>weekday</th>\n",
       "      <th>week</th>\n",
       "      <th>month</th>\n",
       "    </tr>\n",
       "  </thead>\n",
       "  <tbody>\n",
       "    <tr>\n",
       "      <td>0</td>\n",
       "      <td>450007</td>\n",
       "      <td>2015-02-28</td>\n",
       "      <td>Desktop</td>\n",
       "      <td>Female</td>\n",
       "      <td>1</td>\n",
       "      <td>0</td>\n",
       "      <td>0</td>\n",
       "      <td>0</td>\n",
       "      <td>Sat</td>\n",
       "      <td>4</td>\n",
       "      <td>Feb</td>\n",
       "    </tr>\n",
       "    <tr>\n",
       "      <td>1</td>\n",
       "      <td>756838</td>\n",
       "      <td>2015-01-13</td>\n",
       "      <td>Desktop</td>\n",
       "      <td>Male</td>\n",
       "      <td>1</td>\n",
       "      <td>0</td>\n",
       "      <td>0</td>\n",
       "      <td>0</td>\n",
       "      <td>Tue</td>\n",
       "      <td>2</td>\n",
       "      <td>Jan</td>\n",
       "    </tr>\n",
       "    <tr>\n",
       "      <td>2</td>\n",
       "      <td>568983</td>\n",
       "      <td>2015-04-09</td>\n",
       "      <td>Desktop</td>\n",
       "      <td>Male</td>\n",
       "      <td>1</td>\n",
       "      <td>1</td>\n",
       "      <td>0</td>\n",
       "      <td>0</td>\n",
       "      <td>Thu</td>\n",
       "      <td>2</td>\n",
       "      <td>Apr</td>\n",
       "    </tr>\n",
       "    <tr>\n",
       "      <td>3</td>\n",
       "      <td>190794</td>\n",
       "      <td>2015-02-18</td>\n",
       "      <td>Desktop</td>\n",
       "      <td>Female</td>\n",
       "      <td>1</td>\n",
       "      <td>1</td>\n",
       "      <td>0</td>\n",
       "      <td>0</td>\n",
       "      <td>Wed</td>\n",
       "      <td>3</td>\n",
       "      <td>Feb</td>\n",
       "    </tr>\n",
       "    <tr>\n",
       "      <td>4</td>\n",
       "      <td>537909</td>\n",
       "      <td>2015-01-15</td>\n",
       "      <td>Desktop</td>\n",
       "      <td>Male</td>\n",
       "      <td>1</td>\n",
       "      <td>0</td>\n",
       "      <td>0</td>\n",
       "      <td>0</td>\n",
       "      <td>Thu</td>\n",
       "      <td>3</td>\n",
       "      <td>Jan</td>\n",
       "    </tr>\n",
       "  </tbody>\n",
       "</table>\n",
       "</div>"
      ],
      "text/plain": [
       "   user_id        date   device     sex  is_home_pg  is_search_pg  is_pmt_pg  \\\n",
       "0   450007  2015-02-28  Desktop  Female           1             0          0   \n",
       "1   756838  2015-01-13  Desktop    Male           1             0          0   \n",
       "2   568983  2015-04-09  Desktop    Male           1             1          0   \n",
       "3   190794  2015-02-18  Desktop  Female           1             1          0   \n",
       "4   537909  2015-01-15  Desktop    Male           1             0          0   \n",
       "\n",
       "   is_pmt_cf_pg weekday week month  \n",
       "0             0     Sat    4   Feb  \n",
       "1             0     Tue    2   Jan  \n",
       "2             0     Thu    2   Apr  \n",
       "3             0     Wed    3   Feb  \n",
       "4             0     Thu    3   Jan  "
      ]
     },
     "execution_count": 43,
     "metadata": {},
     "output_type": "execute_result"
    }
   ],
   "source": [
    "# Weekday\n",
    "wkday_dict = {1:\"Mon\",2:\"Tue\",3:\"Wed\",4:\"Thu\",5:\"Fri\",6:\"Sat\",7:\"Sun\"}\n",
    "data['weekday'] = list(map(lambda x: wkday_dict[x.weekday()+1],data.date))\n",
    "\n",
    "# Week_of_month (assuming 4 weeks in a month)\n",
    "def get_week(day):\n",
    "    if 1<= day.day < 8:\n",
    "        return \"1\"\n",
    "    elif 8<= day.day < 15:\n",
    "        return \"2\"\n",
    "    elif 15<= day.day < 22:\n",
    "        return \"3\"\n",
    "    else:\n",
    "        return \"4\"\n",
    "data[\"week\"] = list(map(lambda day: get_week(day), data.date))\n",
    "\n",
    "# Month\n",
    "month_dict = {1:\"Jan\",2:\"Feb\",3:\"Mar\",4:\"Apr\",5:\"May\"}\n",
    "data[\"month\"] = list(map(lambda day:month_dict[day.month], data.date))\n",
    "\n",
    "data.head()"
   ]
  },
  {
   "cell_type": "markdown",
   "metadata": {},
   "source": [
    "### Weekday"
   ]
  },
  {
   "cell_type": "code",
   "execution_count": 44,
   "metadata": {
    "scrolled": true
   },
   "outputs": [
    {
     "data": {
      "text/html": [
       "<div>\n",
       "<style scoped>\n",
       "    .dataframe tbody tr th:only-of-type {\n",
       "        vertical-align: middle;\n",
       "    }\n",
       "\n",
       "    .dataframe tbody tr th {\n",
       "        vertical-align: top;\n",
       "    }\n",
       "\n",
       "    .dataframe thead th {\n",
       "        text-align: right;\n",
       "    }\n",
       "</style>\n",
       "<table border=\"1\" class=\"dataframe\">\n",
       "  <thead>\n",
       "    <tr style=\"text-align: right;\">\n",
       "      <th></th>\n",
       "      <th>is_home_pg</th>\n",
       "      <th>is_search_pg</th>\n",
       "      <th>is_pmt_pg</th>\n",
       "      <th>is_pmt_cf_pg</th>\n",
       "    </tr>\n",
       "    <tr>\n",
       "      <th>weekday</th>\n",
       "      <th></th>\n",
       "      <th></th>\n",
       "      <th></th>\n",
       "      <th></th>\n",
       "    </tr>\n",
       "  </thead>\n",
       "  <tbody>\n",
       "    <tr>\n",
       "      <td>Fri</td>\n",
       "      <td>1.0</td>\n",
       "      <td>0.502431</td>\n",
       "      <td>0.068314</td>\n",
       "      <td>0.004235</td>\n",
       "    </tr>\n",
       "    <tr>\n",
       "      <td>Mon</td>\n",
       "      <td>1.0</td>\n",
       "      <td>0.500425</td>\n",
       "      <td>0.067078</td>\n",
       "      <td>0.005944</td>\n",
       "    </tr>\n",
       "    <tr>\n",
       "      <td>Sat</td>\n",
       "      <td>1.0</td>\n",
       "      <td>0.511288</td>\n",
       "      <td>0.066010</td>\n",
       "      <td>0.005468</td>\n",
       "    </tr>\n",
       "    <tr>\n",
       "      <td>Sun</td>\n",
       "      <td>1.0</td>\n",
       "      <td>0.500077</td>\n",
       "      <td>0.066166</td>\n",
       "      <td>0.004798</td>\n",
       "    </tr>\n",
       "    <tr>\n",
       "      <td>Thu</td>\n",
       "      <td>1.0</td>\n",
       "      <td>0.499628</td>\n",
       "      <td>0.066870</td>\n",
       "      <td>0.004909</td>\n",
       "    </tr>\n",
       "    <tr>\n",
       "      <td>Tue</td>\n",
       "      <td>1.0</td>\n",
       "      <td>0.492400</td>\n",
       "      <td>0.067181</td>\n",
       "      <td>0.005434</td>\n",
       "    </tr>\n",
       "    <tr>\n",
       "      <td>Wed</td>\n",
       "      <td>1.0</td>\n",
       "      <td>0.493726</td>\n",
       "      <td>0.065311</td>\n",
       "      <td>0.004209</td>\n",
       "    </tr>\n",
       "  </tbody>\n",
       "</table>\n",
       "</div>"
      ],
      "text/plain": [
       "         is_home_pg  is_search_pg  is_pmt_pg  is_pmt_cf_pg\n",
       "weekday                                                   \n",
       "Fri             1.0      0.502431   0.068314      0.004235\n",
       "Mon             1.0      0.500425   0.067078      0.005944\n",
       "Sat             1.0      0.511288   0.066010      0.005468\n",
       "Sun             1.0      0.500077   0.066166      0.004798\n",
       "Thu             1.0      0.499628   0.066870      0.004909\n",
       "Tue             1.0      0.492400   0.067181      0.005434\n",
       "Wed             1.0      0.493726   0.065311      0.004209"
      ]
     },
     "execution_count": 44,
     "metadata": {},
     "output_type": "execute_result"
    }
   ],
   "source": [
    "data.groupby(\"weekday\")[\"is_home_pg\",\"is_search_pg\",\"is_pmt_pg\",\"is_pmt_cf_pg\"].mean()"
   ]
  },
  {
   "cell_type": "code",
   "execution_count": 45,
   "metadata": {
    "scrolled": false
   },
   "outputs": [
    {
     "data": {
      "text/plain": [
       "<matplotlib.axes._subplots.AxesSubplot at 0x219f88fd5c8>"
      ]
     },
     "execution_count": 45,
     "metadata": {},
     "output_type": "execute_result"
    },
    {
     "data": {
      "image/png": "[encoded data removed]",
      "text/plain": [
       "<Figure size 864x360 with 1 Axes>"
      ]
     },
     "metadata": {},
     "output_type": "display_data"
    }
   ],
   "source": [
    "data.groupby(\"weekday\")[\"is_home_pg\",\"is_search_pg\",\"is_pmt_pg\",\"is_pmt_cf_pg\"].mean().plot(figsize = (12,5))"
   ]
  },
  {
   "cell_type": "markdown",
   "metadata": {},
   "source": [
    "### Week"
   ]
  },
  {
   "cell_type": "code",
   "execution_count": 46,
   "metadata": {},
   "outputs": [
    {
     "data": {
      "text/html": [
       "<div>\n",
       "<style scoped>\n",
       "    .dataframe tbody tr th:only-of-type {\n",
       "        vertical-align: middle;\n",
       "    }\n",
       "\n",
       "    .dataframe tbody tr th {\n",
       "        vertical-align: top;\n",
       "    }\n",
       "\n",
       "    .dataframe thead th {\n",
       "        text-align: right;\n",
       "    }\n",
       "</style>\n",
       "<table border=\"1\" class=\"dataframe\">\n",
       "  <thead>\n",
       "    <tr style=\"text-align: right;\">\n",
       "      <th></th>\n",
       "      <th>is_home_pg</th>\n",
       "      <th>is_search_pg</th>\n",
       "      <th>is_pmt_pg</th>\n",
       "      <th>is_pmt_cf_pg</th>\n",
       "    </tr>\n",
       "    <tr>\n",
       "      <th>week</th>\n",
       "      <th></th>\n",
       "      <th></th>\n",
       "      <th></th>\n",
       "      <th></th>\n",
       "    </tr>\n",
       "  </thead>\n",
       "  <tbody>\n",
       "    <tr>\n",
       "      <td>1</td>\n",
       "      <td>1.0</td>\n",
       "      <td>0.499104</td>\n",
       "      <td>0.066167</td>\n",
       "      <td>0.005942</td>\n",
       "    </tr>\n",
       "    <tr>\n",
       "      <td>2</td>\n",
       "      <td>1.0</td>\n",
       "      <td>0.501976</td>\n",
       "      <td>0.067997</td>\n",
       "      <td>0.004571</td>\n",
       "    </tr>\n",
       "    <tr>\n",
       "      <td>3</td>\n",
       "      <td>1.0</td>\n",
       "      <td>0.504257</td>\n",
       "      <td>0.069686</td>\n",
       "      <td>0.005090</td>\n",
       "    </tr>\n",
       "    <tr>\n",
       "      <td>4</td>\n",
       "      <td>1.0</td>\n",
       "      <td>0.495878</td>\n",
       "      <td>0.063816</td>\n",
       "      <td>0.004527</td>\n",
       "    </tr>\n",
       "  </tbody>\n",
       "</table>\n",
       "</div>"
      ],
      "text/plain": [
       "      is_home_pg  is_search_pg  is_pmt_pg  is_pmt_cf_pg\n",
       "week                                                   \n",
       "1            1.0      0.499104   0.066167      0.005942\n",
       "2            1.0      0.501976   0.067997      0.004571\n",
       "3            1.0      0.504257   0.069686      0.005090\n",
       "4            1.0      0.495878   0.063816      0.004527"
      ]
     },
     "execution_count": 46,
     "metadata": {},
     "output_type": "execute_result"
    }
   ],
   "source": [
    "data.groupby(\"week\")[\"is_home_pg\",\"is_search_pg\",\"is_pmt_pg\",\"is_pmt_cf_pg\"].mean()"
   ]
  },
  {
   "cell_type": "code",
   "execution_count": 47,
   "metadata": {},
   "outputs": [
    {
     "data": {
      "text/plain": [
       "<matplotlib.axes._subplots.AxesSubplot at 0x219fa166c08>"
      ]
     },
     "execution_count": 47,
     "metadata": {},
     "output_type": "execute_result"
    },
    {
     "data": {
      "image/png": "[encoded data removed]",
      "text/plain": [
       "<Figure size 864x360 with 1 Axes>"
      ]
     },
     "metadata": {},
     "output_type": "display_data"
    }
   ],
   "source": [
    "data.groupby(\"week\")[\"is_home_pg\",\"is_search_pg\",\"is_pmt_pg\",\"is_pmt_cf_pg\"].mean().plot(figsize = (12,5))"
   ]
  },
  {
   "cell_type": "markdown",
   "metadata": {},
   "source": [
    "### Month"
   ]
  },
  {
   "cell_type": "code",
   "execution_count": 48,
   "metadata": {
    "scrolled": true
   },
   "outputs": [
    {
     "data": {
      "text/html": [
       "<div>\n",
       "<style scoped>\n",
       "    .dataframe tbody tr th:only-of-type {\n",
       "        vertical-align: middle;\n",
       "    }\n",
       "\n",
       "    .dataframe tbody tr th {\n",
       "        vertical-align: top;\n",
       "    }\n",
       "\n",
       "    .dataframe thead th {\n",
       "        text-align: right;\n",
       "    }\n",
       "</style>\n",
       "<table border=\"1\" class=\"dataframe\">\n",
       "  <thead>\n",
       "    <tr style=\"text-align: right;\">\n",
       "      <th></th>\n",
       "      <th>is_home_pg</th>\n",
       "      <th>is_search_pg</th>\n",
       "      <th>is_pmt_pg</th>\n",
       "      <th>is_pmt_cf_pg</th>\n",
       "    </tr>\n",
       "    <tr>\n",
       "      <th>month</th>\n",
       "      <th></th>\n",
       "      <th></th>\n",
       "      <th></th>\n",
       "      <th></th>\n",
       "    </tr>\n",
       "  </thead>\n",
       "  <tbody>\n",
       "    <tr>\n",
       "      <td>Apr</td>\n",
       "      <td>1.0</td>\n",
       "      <td>0.401770</td>\n",
       "      <td>0.026416</td>\n",
       "      <td>0.002035</td>\n",
       "    </tr>\n",
       "    <tr>\n",
       "      <td>Feb</td>\n",
       "      <td>1.0</td>\n",
       "      <td>0.605619</td>\n",
       "      <td>0.106726</td>\n",
       "      <td>0.007655</td>\n",
       "    </tr>\n",
       "    <tr>\n",
       "      <td>Jan</td>\n",
       "      <td>1.0</td>\n",
       "      <td>0.599735</td>\n",
       "      <td>0.105752</td>\n",
       "      <td>0.008363</td>\n",
       "    </tr>\n",
       "    <tr>\n",
       "      <td>Mar</td>\n",
       "      <td>1.0</td>\n",
       "      <td>0.392876</td>\n",
       "      <td>0.027920</td>\n",
       "      <td>0.001947</td>\n",
       "    </tr>\n",
       "  </tbody>\n",
       "</table>\n",
       "</div>"
      ],
      "text/plain": [
       "       is_home_pg  is_search_pg  is_pmt_pg  is_pmt_cf_pg\n",
       "month                                                   \n",
       "Apr           1.0      0.401770   0.026416      0.002035\n",
       "Feb           1.0      0.605619   0.106726      0.007655\n",
       "Jan           1.0      0.599735   0.105752      0.008363\n",
       "Mar           1.0      0.392876   0.027920      0.001947"
      ]
     },
     "execution_count": 48,
     "metadata": {},
     "output_type": "execute_result"
    }
   ],
   "source": [
    "data.groupby(\"month\")[\"is_home_pg\",\"is_search_pg\",\"is_pmt_pg\",\"is_pmt_cf_pg\"].mean()"
   ]
  },
  {
   "cell_type": "code",
   "execution_count": 51,
   "metadata": {},
   "outputs": [
    {
     "data": {
      "text/html": [
       "<div>\n",
       "<style scoped>\n",
       "    .dataframe tbody tr th:only-of-type {\n",
       "        vertical-align: middle;\n",
       "    }\n",
       "\n",
       "    .dataframe tbody tr th {\n",
       "        vertical-align: top;\n",
       "    }\n",
       "\n",
       "    .dataframe thead th {\n",
       "        text-align: right;\n",
       "    }\n",
       "</style>\n",
       "<table border=\"1\" class=\"dataframe\">\n",
       "  <thead>\n",
       "    <tr style=\"text-align: right;\">\n",
       "      <th></th>\n",
       "      <th>month</th>\n",
       "      <th>is_home_pg</th>\n",
       "      <th>is_search_pg</th>\n",
       "      <th>is_pmt_pg</th>\n",
       "      <th>is_pmt_cf_pg</th>\n",
       "    </tr>\n",
       "  </thead>\n",
       "  <tbody>\n",
       "    <tr>\n",
       "      <td>0</td>\n",
       "      <td>Apr</td>\n",
       "      <td>1.0</td>\n",
       "      <td>0.401770</td>\n",
       "      <td>0.026416</td>\n",
       "      <td>0.002035</td>\n",
       "    </tr>\n",
       "    <tr>\n",
       "      <td>1</td>\n",
       "      <td>Feb</td>\n",
       "      <td>1.0</td>\n",
       "      <td>0.605619</td>\n",
       "      <td>0.106726</td>\n",
       "      <td>0.007655</td>\n",
       "    </tr>\n",
       "    <tr>\n",
       "      <td>2</td>\n",
       "      <td>Jan</td>\n",
       "      <td>1.0</td>\n",
       "      <td>0.599735</td>\n",
       "      <td>0.105752</td>\n",
       "      <td>0.008363</td>\n",
       "    </tr>\n",
       "    <tr>\n",
       "      <td>3</td>\n",
       "      <td>Mar</td>\n",
       "      <td>1.0</td>\n",
       "      <td>0.392876</td>\n",
       "      <td>0.027920</td>\n",
       "      <td>0.001947</td>\n",
       "    </tr>\n",
       "  </tbody>\n",
       "</table>\n",
       "</div>"
      ],
      "text/plain": [
       "  month  is_home_pg  is_search_pg  is_pmt_pg  is_pmt_cf_pg\n",
       "0   Apr         1.0      0.401770   0.026416      0.002035\n",
       "1   Feb         1.0      0.605619   0.106726      0.007655\n",
       "2   Jan         1.0      0.599735   0.105752      0.008363\n",
       "3   Mar         1.0      0.392876   0.027920      0.001947"
      ]
     },
     "execution_count": 51,
     "metadata": {},
     "output_type": "execute_result"
    }
   ],
   "source": [
    "data.groupby(\"month\")[\"is_home_pg\",\"is_search_pg\",\"is_pmt_pg\",\"is_pmt_cf_pg\"].mean().reset_index().sort_values(by=\"month\")"
   ]
  },
  {
   "cell_type": "code",
   "execution_count": 153,
   "metadata": {},
   "outputs": [
    {
     "data": {
      "text/plain": [
       "<matplotlib.axes._subplots.AxesSubplot at 0x11e86368908>"
      ]
     },
     "execution_count": 153,
     "metadata": {},
     "output_type": "execute_result"
    },
    {
     "data": {
      "image/png": "[encoded data removed]",
      "text/plain": [
       "<Figure size 864x360 with 1 Axes>"
      ]
     },
     "metadata": {
      "needs_background": "light"
     },
     "output_type": "display_data"
    }
   ],
   "source": [
    "data.groupby(\"month\")[\"is_home_pg\",\"is_search_pg\",\"is_pmt_pg\",\"is_pmt_cf_pg\"].mean().plot(figsize = (12,5))"
   ]
  },
  {
   "cell_type": "code",
   "execution_count": 54,
   "metadata": {},
   "outputs": [],
   "source": [
    "conv_by_month = data.groupby([\"date\",\"month\"])[[\"is_search_pg\",\"is_pmt_pg\",\"is_pmt_cf_pg\"]].mean().reset_index()"
   ]
  },
  {
   "cell_type": "code",
   "execution_count": 218,
   "metadata": {
    "scrolled": false
   },
   "outputs": [
    {
     "data": {
      "text/html": [
       "<div>\n",
       "<style scoped>\n",
       "    .dataframe tbody tr th:only-of-type {\n",
       "        vertical-align: middle;\n",
       "    }\n",
       "\n",
       "    .dataframe tbody tr th {\n",
       "        vertical-align: top;\n",
       "    }\n",
       "\n",
       "    .dataframe thead th {\n",
       "        text-align: right;\n",
       "    }\n",
       "</style>\n",
       "<table border=\"1\" class=\"dataframe\">\n",
       "  <thead>\n",
       "    <tr style=\"text-align: right;\">\n",
       "      <th></th>\n",
       "      <th>df</th>\n",
       "      <th>sum_sq</th>\n",
       "      <th>mean_sq</th>\n",
       "      <th>F</th>\n",
       "      <th>PR(&gt;F)</th>\n",
       "    </tr>\n",
       "  </thead>\n",
       "  <tbody>\n",
       "    <tr>\n",
       "      <td>C(month)</td>\n",
       "      <td>3.0</td>\n",
       "      <td>1.265965</td>\n",
       "      <td>0.421988</td>\n",
       "      <td>1476.887104</td>\n",
       "      <td>3.340701e-92</td>\n",
       "    </tr>\n",
       "    <tr>\n",
       "      <td>Residual</td>\n",
       "      <td>116.0</td>\n",
       "      <td>0.033144</td>\n",
       "      <td>0.000286</td>\n",
       "      <td>NaN</td>\n",
       "      <td>NaN</td>\n",
       "    </tr>\n",
       "  </tbody>\n",
       "</table>\n",
       "</div>"
      ],
      "text/plain": [
       "             df    sum_sq   mean_sq            F        PR(>F)\n",
       "C(month)    3.0  1.265965  0.421988  1476.887104  3.340701e-92\n",
       "Residual  116.0  0.033144  0.000286          NaN           NaN"
      ]
     },
     "execution_count": 218,
     "metadata": {},
     "output_type": "execute_result"
    }
   ],
   "source": [
    "from statsmodels.formula.api import ols\n",
    "from statsmodels.stats.anova import anova_lm\n",
    "\n",
    "model = ols('is_search_pg ~ C(month)', conv_by_month[[\"month\",\"is_search_pg\"]]).fit()\n",
    "anova_lm(model)"
   ]
  },
  {
   "cell_type": "code",
   "execution_count": 219,
   "metadata": {},
   "outputs": [
    {
     "data": {
      "text/html": [
       "<div>\n",
       "<style scoped>\n",
       "    .dataframe tbody tr th:only-of-type {\n",
       "        vertical-align: middle;\n",
       "    }\n",
       "\n",
       "    .dataframe tbody tr th {\n",
       "        vertical-align: top;\n",
       "    }\n",
       "\n",
       "    .dataframe thead th {\n",
       "        text-align: right;\n",
       "    }\n",
       "</style>\n",
       "<table border=\"1\" class=\"dataframe\">\n",
       "  <thead>\n",
       "    <tr style=\"text-align: right;\">\n",
       "      <th></th>\n",
       "      <th>df</th>\n",
       "      <th>sum_sq</th>\n",
       "      <th>mean_sq</th>\n",
       "      <th>F</th>\n",
       "      <th>PR(&gt;F)</th>\n",
       "    </tr>\n",
       "  </thead>\n",
       "  <tbody>\n",
       "    <tr>\n",
       "      <td>C(month)</td>\n",
       "      <td>3.0</td>\n",
       "      <td>0.187277</td>\n",
       "      <td>0.062426</td>\n",
       "      <td>783.366269</td>\n",
       "      <td>8.484696e-77</td>\n",
       "    </tr>\n",
       "    <tr>\n",
       "      <td>Residual</td>\n",
       "      <td>116.0</td>\n",
       "      <td>0.009244</td>\n",
       "      <td>0.000080</td>\n",
       "      <td>NaN</td>\n",
       "      <td>NaN</td>\n",
       "    </tr>\n",
       "  </tbody>\n",
       "</table>\n",
       "</div>"
      ],
      "text/plain": [
       "             df    sum_sq   mean_sq           F        PR(>F)\n",
       "C(month)    3.0  0.187277  0.062426  783.366269  8.484696e-77\n",
       "Residual  116.0  0.009244  0.000080         NaN           NaN"
      ]
     },
     "execution_count": 219,
     "metadata": {},
     "output_type": "execute_result"
    }
   ],
   "source": [
    "model = ols('is_pmt_pg ~ C(month)', conv_by_month[[\"month\",\"is_pmt_pg\"]]).fit()\n",
    "anova_lm(model)"
   ]
  },
  {
   "cell_type": "code",
   "execution_count": 220,
   "metadata": {},
   "outputs": [
    {
     "data": {
      "text/html": [
       "<div>\n",
       "<style scoped>\n",
       "    .dataframe tbody tr th:only-of-type {\n",
       "        vertical-align: middle;\n",
       "    }\n",
       "\n",
       "    .dataframe tbody tr th {\n",
       "        vertical-align: top;\n",
       "    }\n",
       "\n",
       "    .dataframe thead th {\n",
       "        text-align: right;\n",
       "    }\n",
       "</style>\n",
       "<table border=\"1\" class=\"dataframe\">\n",
       "  <thead>\n",
       "    <tr style=\"text-align: right;\">\n",
       "      <th></th>\n",
       "      <th>df</th>\n",
       "      <th>sum_sq</th>\n",
       "      <th>mean_sq</th>\n",
       "      <th>F</th>\n",
       "      <th>PR(&gt;F)</th>\n",
       "    </tr>\n",
       "  </thead>\n",
       "  <tbody>\n",
       "    <tr>\n",
       "      <td>C(month)</td>\n",
       "      <td>3.0</td>\n",
       "      <td>0.001090</td>\n",
       "      <td>0.000363</td>\n",
       "      <td>68.158465</td>\n",
       "      <td>1.753593e-25</td>\n",
       "    </tr>\n",
       "    <tr>\n",
       "      <td>Residual</td>\n",
       "      <td>116.0</td>\n",
       "      <td>0.000619</td>\n",
       "      <td>0.000005</td>\n",
       "      <td>NaN</td>\n",
       "      <td>NaN</td>\n",
       "    </tr>\n",
       "  </tbody>\n",
       "</table>\n",
       "</div>"
      ],
      "text/plain": [
       "             df    sum_sq   mean_sq          F        PR(>F)\n",
       "C(month)    3.0  0.001090  0.000363  68.158465  1.753593e-25\n",
       "Residual  116.0  0.000619  0.000005        NaN           NaN"
      ]
     },
     "execution_count": 220,
     "metadata": {},
     "output_type": "execute_result"
    }
   ],
   "source": [
    "model = ols('is_pmt_cf_pg ~ C(month)', conv_by_month[[\"month\",\"is_pmt_cf_pg\"]]).fit()\n",
    "anova_lm(model)"
   ]
  },
  {
   "cell_type": "markdown",
   "metadata": {},
   "source": [
    "# 4. OLS"
   ]
  },
  {
   "cell_type": "markdown",
   "metadata": {},
   "source": [
    "coefficients of Month_Jan and Month_Feb are positive at 1% significant level"
   ]
  },
  {
   "cell_type": "code",
   "execution_count": 248,
   "metadata": {},
   "outputs": [
    {
     "name": "stdout",
     "output_type": "stream",
     "text": [
      "                            OLS Regression Results                            \n",
      "==============================================================================\n",
      "Dep. Variable:           is_search_pg   R-squared:                       0.042\n",
      "Model:                            OLS   Adj. R-squared:                  0.042\n",
      "Method:                 Least Squares   F-statistic:                     285.3\n",
      "Date:                Fri, 15 Jan 2021   Prob (F-statistic):               0.00\n",
      "Time:                        19:27:18   Log-Likelihood:                -63657.\n",
      "No. Observations:               90400   AIC:                         1.273e+05\n",
      "Df Residuals:                   90385   BIC:                         1.275e+05\n",
      "Df Model:                          14                                         \n",
      "Covariance Type:            nonrobust                                         \n",
      "=================================================================================\n",
      "                    coef    std err          t      P>|t|      [0.025      0.975]\n",
      "---------------------------------------------------------------------------------\n",
      "const             0.3976      0.006     63.187      0.000       0.385       0.410\n",
      "device_Mobile -2.984e-05      0.003     -0.009      0.993      -0.007       0.007\n",
      "sex_Male         -0.0055      0.003     -1.683      0.092      -0.012       0.001\n",
      "weekday_Mon       0.0090      0.006      1.478      0.140      -0.003       0.021\n",
      "weekday_Sat       0.0070      0.006      1.143      0.253      -0.005       0.019\n",
      "weekday_Sun       0.0072      0.006      1.171      0.242      -0.005       0.019\n",
      "weekday_Thu       0.0012      0.006      0.199      0.842      -0.011       0.013\n",
      "weekday_Tue       0.0012      0.006      0.197      0.844      -0.011       0.013\n",
      "weekday_Wed       0.0019      0.006      0.303      0.762      -0.010       0.014\n",
      "month_Feb         0.2037      0.005     44.180      0.000       0.195       0.213\n",
      "month_Jan         0.1978      0.005     42.909      0.000       0.189       0.207\n",
      "month_Mar        -0.0093      0.005     -2.018      0.044      -0.018      -0.000\n",
      "week_2            0.0031      0.005      0.653      0.514      -0.006       0.012\n",
      "week_3            0.0052      0.005      1.084      0.279      -0.004       0.014\n",
      "week_4            0.0041      0.004      0.918      0.358      -0.005       0.013\n",
      "==============================================================================\n",
      "Omnibus:                   346430.710   Durbin-Watson:                   1.996\n",
      "Prob(Omnibus):                  0.000   Jarque-Bera (JB):            12522.474\n",
      "Skew:                          -0.000   Prob(JB):                         0.00\n",
      "Kurtosis:                       1.177   Cond. No.                         10.5\n",
      "==============================================================================\n",
      "\n",
      "Warnings:\n",
      "[1] Standard Errors assume that the covariance matrix of the errors is correctly specified.\n"
     ]
    }
   ],
   "source": [
    "import statsmodels.api as sm\n",
    "\n",
    "predictors = ['device', 'sex', 'weekday', 'month', 'week']\n",
    "\n",
    "X = pd.get_dummies(data[predictors],drop_first = True)\n",
    "y_search = data['is_search_pg']\n",
    "\n",
    "X2 = sm.add_constant(X)\n",
    "est = sm.OLS(y_search, X2)\n",
    "est2 = est.fit()\n",
    "print(est2.summary())"
   ]
  },
  {
   "cell_type": "markdown",
   "metadata": {},
   "source": [
    "coefficients of Device_Mobile, Month_Jan and Month_Feb are positive at 1% significant level, while sex_Male is significantly negative at 5% level"
   ]
  },
  {
   "cell_type": "code",
   "execution_count": 249,
   "metadata": {},
   "outputs": [
    {
     "name": "stdout",
     "output_type": "stream",
     "text": [
      "                            OLS Regression Results                            \n",
      "==============================================================================\n",
      "Dep. Variable:              is_pmt_pg   R-squared:                       0.034\n",
      "Model:                            OLS   Adj. R-squared:                  0.034\n",
      "Method:                 Least Squares   F-statistic:                     228.6\n",
      "Date:                Fri, 15 Jan 2021   Prob (F-statistic):               0.00\n",
      "Time:                        19:27:21   Log-Likelihood:                -1200.3\n",
      "No. Observations:               90400   AIC:                             2431.\n",
      "Df Residuals:                   90385   BIC:                             2572.\n",
      "Df Model:                          14                                         \n",
      "Covariance Type:            nonrobust                                         \n",
      "=================================================================================\n",
      "                    coef    std err          t      P>|t|      [0.025      0.975]\n",
      "---------------------------------------------------------------------------------\n",
      "const             0.0096      0.003      3.052      0.002       0.003       0.016\n",
      "device_Mobile     0.0500      0.002     28.912      0.000       0.047       0.053\n",
      "sex_Male         -0.0038      0.002     -2.333      0.020      -0.007      -0.001\n",
      "weekday_Mon       0.0028      0.003      0.919      0.358      -0.003       0.009\n",
      "weekday_Sat      -0.0032      0.003     -1.050      0.294      -0.009       0.003\n",
      "weekday_Sun       0.0013      0.003      0.422      0.673      -0.005       0.007\n",
      "weekday_Thu       0.0005      0.003      0.173      0.862      -0.005       0.006\n",
      "weekday_Tue       0.0029      0.003      0.956      0.339      -0.003       0.009\n",
      "weekday_Wed       0.0011      0.003      0.359      0.720      -0.005       0.007\n",
      "month_Feb         0.0802      0.002     34.725      0.000       0.076       0.085\n",
      "month_Jan         0.0795      0.002     34.403      0.000       0.075       0.084\n",
      "month_Mar         0.0013      0.002      0.581      0.561      -0.003       0.006\n",
      "week_2            0.0017      0.002      0.704      0.482      -0.003       0.006\n",
      "week_3            0.0034      0.002      1.417      0.156      -0.001       0.008\n",
      "week_4            0.0002      0.002      0.094      0.925      -0.004       0.005\n",
      "==============================================================================\n",
      "Omnibus:                    59487.024   Durbin-Watson:                   2.003\n",
      "Prob(Omnibus):                  0.000   Jarque-Bera (JB):           492524.176\n",
      "Skew:                           3.290   Prob(JB):                         0.00\n",
      "Kurtosis:                      12.352   Cond. No.                         10.5\n",
      "==============================================================================\n",
      "\n",
      "Warnings:\n",
      "[1] Standard Errors assume that the covariance matrix of the errors is correctly specified.\n"
     ]
    }
   ],
   "source": [
    "est = sm.OLS(data[\"is_pmt_pg\"], X2)\n",
    "est2 = est.fit()\n",
    "print(est2.summary())"
   ]
  },
  {
   "cell_type": "markdown",
   "metadata": {},
   "source": [
    "1. coefficients of Device_Mobile, Month_Jan and Month_Feb are positive at 1% significant level\n",
    "2. weekday monday is significantly negative at 5% level"
   ]
  },
  {
   "cell_type": "code",
   "execution_count": 250,
   "metadata": {},
   "outputs": [
    {
     "name": "stdout",
     "output_type": "stream",
     "text": [
      "                            OLS Regression Results                            \n",
      "==============================================================================\n",
      "Dep. Variable:           is_pmt_cf_pg   R-squared:                       0.005\n",
      "Model:                            OLS   Adj. R-squared:                  0.004\n",
      "Method:                 Least Squares   F-statistic:                     29.29\n",
      "Date:                Fri, 15 Jan 2021   Prob (F-statistic):           1.54e-78\n",
      "Time:                        19:27:22   Log-Likelihood:             1.1164e+05\n",
      "No. Observations:               90400   AIC:                        -2.233e+05\n",
      "Df Residuals:                   90385   BIC:                        -2.231e+05\n",
      "Df Model:                          14                                         \n",
      "Covariance Type:            nonrobust                                         \n",
      "=================================================================================\n",
      "                    coef    std err          t      P>|t|      [0.025      0.975]\n",
      "---------------------------------------------------------------------------------\n",
      "const            -0.0002      0.001     -0.183      0.855      -0.002       0.002\n",
      "device_Mobile     0.0075      0.000     15.130      0.000       0.007       0.008\n",
      "sex_Male         -0.0007      0.000     -1.420      0.156      -0.002       0.000\n",
      "weekday_Mon       0.0020      0.001      2.320      0.020       0.000       0.004\n",
      "weekday_Sat       0.0011      0.001      1.295      0.195      -0.001       0.003\n",
      "weekday_Sun       0.0009      0.001      0.975      0.330      -0.001       0.003\n",
      "weekday_Thu       0.0008      0.001      0.973      0.331      -0.001       0.003\n",
      "weekday_Tue       0.0015      0.001      1.724      0.085      -0.000       0.003\n",
      "weekday_Wed       0.0003      0.001      0.338      0.735      -0.001       0.002\n",
      "month_Feb         0.0056      0.001      8.387      0.000       0.004       0.007\n",
      "month_Jan         0.0063      0.001      9.545      0.000       0.005       0.008\n",
      "month_Mar        -0.0002      0.001     -0.242      0.808      -0.001       0.001\n",
      "week_2           -0.0014      0.001     -2.024      0.043      -0.003   -4.38e-05\n",
      "week_3           -0.0009      0.001     -1.260      0.208      -0.002       0.000\n",
      "week_4           -0.0013      0.001     -1.941      0.052      -0.003    1.24e-05\n",
      "==============================================================================\n",
      "Omnibus:                   164897.048   Durbin-Watson:                   1.975\n",
      "Prob(Omnibus):                  0.000   Jarque-Bera (JB):        143590242.496\n",
      "Skew:                          13.941   Prob(JB):                         0.00\n",
      "Kurtosis:                     196.246   Cond. No.                         10.5\n",
      "==============================================================================\n",
      "\n",
      "Warnings:\n",
      "[1] Standard Errors assume that the covariance matrix of the errors is correctly specified.\n"
     ]
    }
   ],
   "source": [
    "est = sm.OLS(data[\"is_pmt_cf_pg\"], X2)\n",
    "est2 = est.fit()\n",
    "print(est2.summary())"
   ]
  },
  {
   "cell_type": "code",
   "execution_count": null,
   "metadata": {},
   "outputs": [],
   "source": []
  }
 ],
 "metadata": {
  "colab": {
   "collapsed_sections": [],
   "name": "05. Funnel Analysis 0115",
   "provenance": []
  },
  "kernelspec": {
   "display_name": "Python 3",
   "language": "python",
   "name": "python3"
  },
  "language_info": {
   "codemirror_mode": {
    "name": "ipython",
    "version": 3
   },
   "file_extension": ".py",
   "mimetype": "text/x-python",
   "name": "python",
   "nbconvert_exporter": "python",
   "pygments_lexer": "ipython3",
   "version": "3.7.4"
  }
 },
 "nbformat": 4,
 "nbformat_minor": 1
}
