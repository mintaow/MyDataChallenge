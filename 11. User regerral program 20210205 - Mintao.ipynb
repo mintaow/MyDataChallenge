{
 "cells": [
  {
   "cell_type": "code",
   "execution_count": 1,
   "metadata": {},
   "outputs": [],
   "source": [
    "import warnings\n",
    "warnings.simplefilter('ignore')\n",
    "\n",
    "import numpy as np\n",
    "import pandas as pd\n",
    "import seaborn as sns\n",
    "import matplotlib.pyplot as plt\n",
    "from datetime import datetime, date, time, timedelta\n",
    "import time\n",
    "from sklearn.metrics import auc, roc_curve, classification_report\n",
    "from scipy import stats\n",
    "\n",
    "#import h2o\n",
    "#from h2o.frame import H2OFrame\n",
    "#from h2o.estimators.random_forest import H2ORandomForestEstimator\n",
    "#from h2o.grid.grid_search import H2OGridSearch\n",
    "\n",
    "%matplotlib inline\n",
    "sns.set(style=\"white\",context=\"talk\")"
   ]
  },
  {
   "cell_type": "markdown",
   "metadata": {},
   "source": [
    "# Recap\n",
    "1. Can you estimate the impact the program had on the site?\n",
    "2. Based on the data, what would you suggest to do as a next step?"
   ]
  },
  {
   "cell_type": "markdown",
   "metadata": {},
   "source": [
    "# 1. Data Preview and Processing"
   ]
  },
  {
   "cell_type": "code",
   "execution_count": 2,
   "metadata": {},
   "outputs": [],
   "source": [
    "data = pd.read_csv(\"referral.csv\",sep = \",\")"
   ]
  },
  {
   "cell_type": "code",
   "execution_count": 3,
   "metadata": {},
   "outputs": [],
   "source": [
    "def view(df):\n",
    "    # Exploring the data types, number of unique values and missing values\n",
    "    cols = df.columns\n",
    "    print(f\"The dataset consists of {df.shape[0]} rows and {df.shape[1]} columns\")\n",
    "    print(f\"The columns are: {df.columns.tolist()}\")\n",
    "    return pd.concat([pd.DataFrame({\"data_types\":df.dtypes, \n",
    "              \"value_counts\": df.nunique(),\n",
    "             \"null_counts\": df.isnull().sum()}).T,df.iloc[0:3,:]],axis = 0)"
   ]
  },
  {
   "cell_type": "code",
   "execution_count": 4,
   "metadata": {},
   "outputs": [
    {
     "name": "stdout",
     "output_type": "stream",
     "text": [
      "The dataset consists of 97341 rows and 6 columns\n",
      "The columns are: ['user_id', 'day', 'country', 'money_spent', 'is_referral', 'device_id']\n"
     ]
    },
    {
     "data": {
      "text/html": [
       "<div>\n",
       "<style scoped>\n",
       "    .dataframe tbody tr th:only-of-type {\n",
       "        vertical-align: middle;\n",
       "    }\n",
       "\n",
       "    .dataframe tbody tr th {\n",
       "        vertical-align: top;\n",
       "    }\n",
       "\n",
       "    .dataframe thead th {\n",
       "        text-align: right;\n",
       "    }\n",
       "</style>\n",
       "<table border=\"1\" class=\"dataframe\">\n",
       "  <thead>\n",
       "    <tr style=\"text-align: right;\">\n",
       "      <th></th>\n",
       "      <th>user_id</th>\n",
       "      <th>day</th>\n",
       "      <th>country</th>\n",
       "      <th>money_spent</th>\n",
       "      <th>is_referral</th>\n",
       "      <th>device_id</th>\n",
       "    </tr>\n",
       "  </thead>\n",
       "  <tbody>\n",
       "    <tr>\n",
       "      <td>data_types</td>\n",
       "      <td>int64</td>\n",
       "      <td>object</td>\n",
       "      <td>object</td>\n",
       "      <td>int64</td>\n",
       "      <td>int64</td>\n",
       "      <td>object</td>\n",
       "    </tr>\n",
       "    <tr>\n",
       "      <td>value_counts</td>\n",
       "      <td>18809</td>\n",
       "      <td>56</td>\n",
       "      <td>9</td>\n",
       "      <td>165</td>\n",
       "      <td>2</td>\n",
       "      <td>17887</td>\n",
       "    </tr>\n",
       "    <tr>\n",
       "      <td>null_counts</td>\n",
       "      <td>0</td>\n",
       "      <td>0</td>\n",
       "      <td>0</td>\n",
       "      <td>0</td>\n",
       "      <td>0</td>\n",
       "      <td>0</td>\n",
       "    </tr>\n",
       "    <tr>\n",
       "      <td>0</td>\n",
       "      <td>2</td>\n",
       "      <td>2015-10-03</td>\n",
       "      <td>FR</td>\n",
       "      <td>65</td>\n",
       "      <td>0</td>\n",
       "      <td>EVDCJTZMVMJDG</td>\n",
       "    </tr>\n",
       "    <tr>\n",
       "      <td>1</td>\n",
       "      <td>3</td>\n",
       "      <td>2015-10-03</td>\n",
       "      <td>CA</td>\n",
       "      <td>54</td>\n",
       "      <td>0</td>\n",
       "      <td>WUBZFTVKXGQQX</td>\n",
       "    </tr>\n",
       "    <tr>\n",
       "      <td>2</td>\n",
       "      <td>6</td>\n",
       "      <td>2015-10-03</td>\n",
       "      <td>FR</td>\n",
       "      <td>35</td>\n",
       "      <td>0</td>\n",
       "      <td>CBAPCJRTFNUJG</td>\n",
       "    </tr>\n",
       "  </tbody>\n",
       "</table>\n",
       "</div>"
      ],
      "text/plain": [
       "             user_id         day country money_spent is_referral  \\\n",
       "data_types     int64      object  object       int64       int64   \n",
       "value_counts   18809          56       9         165           2   \n",
       "null_counts        0           0       0           0           0   \n",
       "0                  2  2015-10-03      FR          65           0   \n",
       "1                  3  2015-10-03      CA          54           0   \n",
       "2                  6  2015-10-03      FR          35           0   \n",
       "\n",
       "                  device_id  \n",
       "data_types           object  \n",
       "value_counts          17887  \n",
       "null_counts               0  \n",
       "0             EVDCJTZMVMJDG  \n",
       "1             WUBZFTVKXGQQX  \n",
       "2             CBAPCJRTFNUJG  "
      ]
     },
     "execution_count": 4,
     "metadata": {},
     "output_type": "execute_result"
    }
   ],
   "source": [
    "data = data.rename(columns ={\"date\":\"day\"})\n",
    "view(data)"
   ]
  },
  {
   "cell_type": "code",
   "execution_count": 5,
   "metadata": {},
   "outputs": [],
   "source": [
    "def add_date_factors(df, ts_col, is_datetime):\n",
    "    '''\n",
    "    Assumption: the currect ts_col is a timestamp datatype\n",
    "    \n",
    "    Input:\n",
    "    df (dataframe, target dataframe to be transformed)\n",
    "    ts_col(string, name of the timestamp column)\n",
    "    is_datetime(boolean, whether ts_col is datetime object or not)\n",
    "    \n",
    "    Output:\n",
    "    This function generates hour, hour_of_day, date, weekday, week_of_month, months, year\n",
    "    '''\n",
    "    if is_datetime:\n",
    "        pass\n",
    "    else:\n",
    "        df[ts_col] = list(map(lambda x: datetime.fromisoformat(x),df[ts_col].replace(\":60\",\":59\", regex=True)))\n",
    "        \n",
    "    # Date\n",
    "    df[\"date\"] =  list(map(lambda day:day.date(), df[ts_col]))\n",
    "\n",
    "    # Weekday\n",
    "    wkday_dict = {1:\"Mon\",2:\"Tue\",3:\"Wed\",4:\"Thu\",5:\"Fri\",6:\"Sat\",7:\"Sun\"}\n",
    "    df[\"weekday_index\"] = list(map(lambda x: x.date().weekday()+1, df[ts_col]))\n",
    "    df['weekday'] = list(map(lambda x: wkday_dict[x],df[\"weekday_index\"]))\n",
    "\n",
    "    # Week_of_month (assuming 4 weeks in a month)\n",
    "    def get_week(day):\n",
    "        if 1<= day.day < 8:\n",
    "            return (\"first_week\",1)\n",
    "        elif 8<= day.day < 15:\n",
    "            return (\"second_week\",2)\n",
    "        elif 15<= day.day < 22:\n",
    "            return (\"third_week\",3)\n",
    "        else:\n",
    "            return (\"last_week\",4)\n",
    "    df[\"week\"] = list(map(lambda day: get_week(day)[0], df[ts_col]))\n",
    "    df[\"week_index\"] = list(map(lambda day: get_week(day)[1], df[ts_col]))\n",
    "\n",
    "    # Month\n",
    "    month_dict = {1:\"Jan\",2:\"Feb\",3:\"Mar\",4:\"Apr\",5:\"May\",6:\"Jun\",7:\"Jul\",8:\"Aug\",9:\"Sep\",10:\"Oct\",11:\"Nov\",12:\"Dec\"}\n",
    "    df[\"month_index\"] = list(map(lambda day: day.month, df[ts_col]))\n",
    "    df[\"month\"] = list(map(lambda m: month_dict[m], df[\"month_index\"]))\n",
    "\n",
    "    # Year\n",
    "    df[\"year\"] = list(map(lambda x:x.year,df[ts_col]))\n",
    "    return df"
   ]
  },
  {
   "cell_type": "code",
   "execution_count": 6,
   "metadata": {},
   "outputs": [],
   "source": [
    "data.day = pd.to_datetime(data.day)\n",
    "data = add_date_factors(data, \"day\",True)"
   ]
  },
  {
   "cell_type": "code",
   "execution_count": 7,
   "metadata": {},
   "outputs": [],
   "source": [
    "# How many days in operation and total number of pick-ups each month\n",
    "def get_opr_status(df,agg_frame,id_col,date_col,is_frame_time=True):\n",
    "    '''\n",
    "    Input:\n",
    "      df(dataframe)\n",
    "      add_frame(normally ingle string, but might be a list if it is a time factor, so we could sort the time)\n",
    "      is_frame_time(bool)s\n",
    "\n",
    "      id_col(string)\n",
    "      date_col(string)\n",
    "    '''\n",
    "    if is_frame_time:\n",
    "        opr = df.groupby(by = agg_frame).agg({id_col:\"count\",date_col:\"nunique\"}).sort_index()\n",
    "    else:\n",
    "        opr = df.groupby(by = agg_frame).agg({id_col:\"count\",date_col:\"nunique\"})\n",
    "        opr.columns = [\"num_obs\",\"num_days\"]\n",
    "    return opr"
   ]
  },
  {
   "cell_type": "code",
   "execution_count": 8,
   "metadata": {},
   "outputs": [
    {
     "data": {
      "text/html": [
       "<div>\n",
       "<style scoped>\n",
       "    .dataframe tbody tr th:only-of-type {\n",
       "        vertical-align: middle;\n",
       "    }\n",
       "\n",
       "    .dataframe tbody tr th {\n",
       "        vertical-align: top;\n",
       "    }\n",
       "\n",
       "    .dataframe thead th {\n",
       "        text-align: right;\n",
       "    }\n",
       "</style>\n",
       "<table border=\"1\" class=\"dataframe\">\n",
       "  <thead>\n",
       "    <tr style=\"text-align: right;\">\n",
       "      <th></th>\n",
       "      <th></th>\n",
       "      <th></th>\n",
       "      <th>user_id</th>\n",
       "      <th>date</th>\n",
       "    </tr>\n",
       "    <tr>\n",
       "      <th>year</th>\n",
       "      <th>month_index</th>\n",
       "      <th>month</th>\n",
       "      <th></th>\n",
       "      <th></th>\n",
       "    </tr>\n",
       "  </thead>\n",
       "  <tbody>\n",
       "    <tr>\n",
       "      <td rowspan=\"2\" valign=\"top\">2015</td>\n",
       "      <td>10</td>\n",
       "      <td>Oct</td>\n",
       "      <td>50574</td>\n",
       "      <td>29</td>\n",
       "    </tr>\n",
       "    <tr>\n",
       "      <td>11</td>\n",
       "      <td>Nov</td>\n",
       "      <td>46767</td>\n",
       "      <td>27</td>\n",
       "    </tr>\n",
       "  </tbody>\n",
       "</table>\n",
       "</div>"
      ],
      "text/plain": [
       "                        user_id  date\n",
       "year month_index month               \n",
       "2015 10          Oct      50574    29\n",
       "     11          Nov      46767    27"
      ]
     },
     "execution_count": 8,
     "metadata": {},
     "output_type": "execute_result"
    }
   ],
   "source": [
    "get_opr_status(data, [\"year\",\"month_index\",\"month\"],\"user_id\",\"date\",is_frame_time=True)"
   ]
  },
  {
   "cell_type": "markdown",
   "metadata": {},
   "source": [
    "# 2. Experiment"
   ]
  },
  {
   "cell_type": "markdown",
   "metadata": {},
   "source": [
    "### Add the test identifier"
   ]
  },
  {
   "cell_type": "code",
   "execution_count": 9,
   "metadata": {},
   "outputs": [],
   "source": [
    "data[\"is_test\"] = 1\n",
    "data.loc[data.month ==\"Oct\",\"is_test\"] = 0\n",
    "data[data.date == datetime(2015,10,31)] = 1"
   ]
  },
  {
   "cell_type": "markdown",
   "metadata": {},
   "source": [
    "### 2-1. Picking the evaluation metric"
   ]
  },
  {
   "cell_type": "markdown",
   "metadata": {},
   "source": [
    "**North Star Metric-1:** Total revenue per day net of referral expenditure"
   ]
  },
  {
   "cell_type": "code",
   "execution_count": 10,
   "metadata": {},
   "outputs": [],
   "source": [
    "data[\"revenue\"] = data.money_spent\n",
    "data.loc[data.is_referral == 1,\"revenue\"] = data.revenue - 10\n",
    "temp1 = data.groupby(by = [\"date\",\"is_test\"]).revenue.sum().reset_index()"
   ]
  },
  {
   "cell_type": "code",
   "execution_count": 11,
   "metadata": {},
   "outputs": [],
   "source": [
    "def levene_t_test(data1, data2):\n",
    "    # Step1: Check normal distribution assumption\n",
    "    print(\"Data1: KS-Test\",stats.kstest(data1, 'norm'))\n",
    "    print(\"Data1: KS-Test\",stats.kstest(data2, 'norm'),\"\\n\")\n",
    "    \n",
    "    # Step2: Check equality of variance (not required in paired t-test), only required in independent t-test\n",
    "    t,p = stats.levene(data1,data2)\n",
    "    print(f\"Levene variance test: t={round(t,3)}, p={round(p,3)}\")\n",
    "    if p<0.05:\n",
    "        print(\"----variance of the two group doesn't equal, reject the null hypothesis----\")\n",
    "        t,p = stats.ttest_ind(data1,data2, equal_var = False)\n",
    "    else:\n",
    "        t,p = stats.ttest_ind(data1,data2)\n",
    "    print(f\"Independent t-test: t={round(t,3)}, p={round(p,3)}\")"
   ]
  },
  {
   "cell_type": "code",
   "execution_count": 12,
   "metadata": {},
   "outputs": [
    {
     "name": "stdout",
     "output_type": "stream",
     "text": [
      "Data1: KS-Test KstestResult(statistic=1.0, pvalue=0.0)\n",
      "Data1: KS-Test KstestResult(statistic=1.0, pvalue=0.0) \n",
      "\n",
      "Levene variance test: t=0.154, p=0.696\n",
      "Independent t-test: t=-0.227, p=0.821\n"
     ]
    }
   ],
   "source": [
    "levene_t_test(temp1.loc[temp1.is_test == 1,\"revenue\"],\n",
    "              temp1.loc[temp1.is_test == 0,\"revenue\"].sample(\n",
    "                  len(temp1.loc[temp1.is_test == 0,\"revenue\"])))"
   ]
  },
  {
   "cell_type": "markdown",
   "metadata": {},
   "source": [
    "**North Star Metric-2:** Revenue per customer per day net of referral expenditure"
   ]
  },
  {
   "cell_type": "code",
   "execution_count": 13,
   "metadata": {},
   "outputs": [],
   "source": [
    "temp2 = data.groupby(by = [\"date\",\"is_test\"]).agg({\"revenue\":\"sum\",\"user_id\":\"count\"}).reset_index()\n",
    "temp2[\"rev_per_order\"] = temp2.revenue/temp2.user_id\n"
   ]
  },
  {
   "cell_type": "code",
   "execution_count": 14,
   "metadata": {},
   "outputs": [
    {
     "name": "stdout",
     "output_type": "stream",
     "text": [
      "Data1: KS-Test KstestResult(statistic=1.0, pvalue=0.0)\n",
      "Data1: KS-Test KstestResult(statistic=1.0, pvalue=0.0) \n",
      "\n",
      "Levene variance test: t=0.235, p=0.629\n",
      "Independent t-test: t=-5.934, p=0.0\n"
     ]
    }
   ],
   "source": [
    "levene_t_test(temp2.loc[temp2.is_test == 1,\"rev_per_order\"],\n",
    "              temp2.loc[temp2.is_test == 0,\"rev_per_order\"].sample(\n",
    "                  len(temp2.loc[temp2.is_test == 0,\"rev_per_order\"])))"
   ]
  },
  {
   "cell_type": "markdown",
   "metadata": {},
   "source": [
    "Questions: are they price-sensitive customers? => How many orders does the referree bought"
   ]
  },
  {
   "cell_type": "code",
   "execution_count": 15,
   "metadata": {},
   "outputs": [
    {
     "data": {
      "text/plain": [
       "count    12715.000000\n",
       "mean         2.203460\n",
       "std          1.215192\n",
       "min          1.000000\n",
       "25%          1.000000\n",
       "50%          2.000000\n",
       "75%          3.000000\n",
       "max         10.000000\n",
       "Name: is_referral, dtype: float64"
      ]
     },
     "execution_count": 15,
     "metadata": {},
     "output_type": "execute_result"
    }
   ],
   "source": [
    "data[data.is_referral == 1].groupby(\"user_id\").is_referral.count().sort_values(ascending = False).describe()"
   ]
  }
 ],
 "metadata": {
  "kernelspec": {
   "display_name": "Python 3",
   "language": "python",
   "name": "python3"
  },
  "language_info": {
   "codemirror_mode": {
    "name": "ipython",
    "version": 3
   },
   "file_extension": ".py",
   "mimetype": "text/x-python",
   "name": "python",
   "nbconvert_exporter": "python",
   "pygments_lexer": "ipython3",
   "version": "3.7.4"
  }
 },
 "nbformat": 4,
 "nbformat_minor": 2
}
